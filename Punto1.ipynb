{
 "cells": [
  {
   "cell_type": "code",
   "execution_count": 1,
   "metadata": {
    "collapsed": true
   },
   "outputs": [],
   "source": [
    "import numpy as np\n",
    "from glob import glob\n",
    "from tqdm import tqdm\n",
    "import tensorflow as tf\n",
    "from tensorflow import keras\n",
    "import matplotlib.pyplot as plt"
   ]
  },
  {
   "cell_type": "code",
   "execution_count": 2,
   "metadata": {},
   "outputs": [],
   "source": [
    "import cv2 as cv\n",
    "import os\n",
    "import sys\n",
    "import numpy as np\n",
    "import matplotlib.pyplot as plt\n",
    "from ipywidgets import interact, interactive, fixed, interact_manual\n",
    "import ipywidgets as widgets"
   ]
  },
  {
   "cell_type": "markdown",
   "metadata": {},
   "source": [
    "## Proponer una CNN para reconocimiento de acciones\n",
    "### Obtengo las etiquetas de mis videos que estaran en \"y\"\n",
    " Asi mismo cargare unas covarianzas de videos locales que tengo calculadas, utilizan caracteristicas basicas, por lo que no son computacionalmente pesadas, son covarianzas de 7*7"
   ]
  },
  {
   "cell_type": "code",
   "execution_count": null,
   "metadata": {},
   "outputs": [],
   "source": [
    "binaries_path = sorted(glob(\"./binarycovs/*.npy\"))\n",
    "binaries = np.array([np.load(path) for path in binaries_path])"
   ]
  },
  {
   "cell_type": "code",
   "execution_count": null,
   "metadata": {},
   "outputs": [],
   "source": [
    "print(\"Amount of binaries in folder:\", binaries.shape)"
   ]
  },
  {
   "cell_type": "code",
   "execution_count": null,
   "metadata": {},
   "outputs": [],
   "source": [
    "y_train=[]\n",
    "y=[]\n",
    "x=[]\n",
    "for i in range(len(binaries_path)):\n",
    "    x.append(binaries[i])\n",
    "    y.append(int(binaries_path[i].split('.')[-2][-1]))"
   ]
  },
  {
   "cell_type": "code",
   "execution_count": null,
   "metadata": {},
   "outputs": [],
   "source": [
    "x = np.array(x)\n",
    "y = np.array(y)"
   ]
  },
  {
   "cell_type": "code",
   "execution_count": null,
   "metadata": {},
   "outputs": [],
   "source": [
    "xi = []\n",
    "for i in range(len(x)):\n",
    "    xi.append([])\n",
    "    for j in range(len(x[i])):\n",
    "        xi[i].append(x[i][j].flatten())"
   ]
  },
  {
   "cell_type": "markdown",
   "metadata": {},
   "source": [
    "#### Obtengo un numero elevado de covarianzas por lo que realizo un bag of words obteniendo los 1000 centroides ma representativos(las 1000 covarianzas mas representativas) para poder hacer histogramas para cada videos con estas 1000 palabras"
   ]
  },
  {
   "cell_type": "code",
   "execution_count": null,
   "metadata": {},
   "outputs": [],
   "source": [
    "from sklearn.cluster import KMeans"
   ]
  },
  {
   "cell_type": "code",
   "execution_count": null,
   "metadata": {},
   "outputs": [],
   "source": [
    "total=[]\n",
    "for i in range(len(binaries)):\n",
    "    for j in range(len(binaries[i])):\n",
    "        total.append(binaries[i][j].flatten())"
   ]
  },
  {
   "cell_type": "code",
   "execution_count": null,
   "metadata": {},
   "outputs": [],
   "source": [
    "clus=[]\n",
    "estimator=KMeans(n_clusters=1000).fit(total)\n",
    "dictionary=estimator.cluster_centers_\n",
    "clus.append(dictionary)"
   ]
  },
  {
   "cell_type": "code",
   "execution_count": null,
   "metadata": {},
   "outputs": [],
   "source": [
    "from sklearn.metrics import pairwise_distances_argmin_min\n",
    "from sklearn.metrics import pairwise_distances"
   ]
  },
  {
   "cell_type": "code",
   "execution_count": null,
   "metadata": {},
   "outputs": [],
   "source": [
    "Cluster=[]\n",
    "for i in range(len(binaries)):\n",
    "    temp1,temp2=pairwise_distances_argmin_min(xi[i],dictionary,metric='euclidean')\n",
    "    histogram_vid=plt.hist(temp1,bins=len(dictionary))\n",
    "    Cluster.append(histogram_vid)\n"
   ]
  },
  {
   "cell_type": "markdown",
   "metadata": {},
   "source": [
    "### Aca solo cargo los datos quue ya habia sacado, pero tenia un back up en caso de fallo por falta de ram\n",
    "\n",
    "Esto se hace con el np.load, antes los habia guardado con np.save"
   ]
  },
  {
   "cell_type": "code",
   "execution_count": null,
   "metadata": {},
   "outputs": [],
   "source": [
    "dataset_train2=np.array(Cluster)"
   ]
  },
  {
   "cell_type": "code",
   "execution_count": 3,
   "metadata": {},
   "outputs": [],
   "source": [
    "y=np.load('etiquetas.npy')"
   ]
  },
  {
   "cell_type": "code",
   "execution_count": 4,
   "metadata": {},
   "outputs": [],
   "source": [
    "dataset_train2=np.load('histogramas.npy', allow_pickle=True)"
   ]
  },
  {
   "cell_type": "code",
   "execution_count": 12,
   "metadata": {},
   "outputs": [],
   "source": [
    "from sklearn.model_selection import train_test_split\n",
    "x_train, x_test,y_train,y_test= train_test_split(dataset_train2,y, test_size=0.2, shuffle=True)"
   ]
  },
  {
   "cell_type": "markdown",
   "metadata": {},
   "source": [
    "Creo un modelo que esta basado en VGG16, basicamente, por sus pocas capas lo elegi, y debido a las dimensiones de un histograma fueron editados los kernels a 2*2, fueron extraidas algunas capas, por que se hacia muy pesado para la maquina"
   ]
  },
  {
   "cell_type": "code",
   "execution_count": null,
   "metadata": {},
   "outputs": [],
   "source": [
    "del model_CNN"
   ]
  },
  {
   "cell_type": "code",
   "execution_count": 2,
   "metadata": {},
   "outputs": [
    {
     "name": "stdout",
     "output_type": "stream",
     "text": [
      "WARNING:tensorflow:From D:\\Anaconda3\\lib\\site-packages\\tensorflow\\python\\ops\\resource_variable_ops.py:435: colocate_with (from tensorflow.python.framework.ops) is deprecated and will be removed in a future version.\n",
      "Instructions for updating:\n",
      "Colocations handled automatically by placer.\n"
     ]
    }
   ],
   "source": [
    "model_CNN =  keras.models.Sequential()\n",
    "model_CNN.add(keras.layers.Conv2D(1, (2, 2), activation='relu', kernel_initializer='he_uniform', padding='same', input_shape=(2, 1000,1)))\n",
    "model_CNN.add(keras.layers.MaxPooling2D((2, 2), padding='valid'))\n",
    "model_CNN.add(keras.layers.Conv2D(64, (2, 2), activation='relu', kernel_initializer='he_uniform', padding='same'))\n",
    "#model_CNN.add(keras.layers.MaxPooling2D((2, 2), padding='valid'))\n",
    "#model_CNN.add(keras.layers.Conv2D(128, (2, 2), activation='relu', kernel_initializer='he_uniform', padding='same'))\n",
    "#model_CNN.add(keras.layers.Conv2D(128, (2, 2), activation='relu', kernel_initializer='he_uniform', padding='same'))\n",
    "model_CNN.add(keras.layers.Conv2D(128, (2, 2), activation='relu', kernel_initializer='he_uniform', padding='same'))\n",
    "#model_CNN.add(keras.layers.MaxPooling2D((2, 2), padding='valid'))\n",
    "model_CNN.add(keras.layers.Conv2D(128, (2, 2), activation='relu', kernel_initializer='he_uniform', padding='same'))\n",
    "model_CNN.add(keras.layers.Conv2D(128, (2, 2), activation='relu', kernel_initializer='he_uniform', padding='same'))\n",
    "model_CNN.add(keras.layers.Conv2D(256, (2, 2), activation='relu', kernel_initializer='he_uniform', padding='same'))\n",
    "#model_CNN.add(keras.layers.MaxPooling2D((2, 2), padding='valid'))\n",
    "model_CNN.add(keras.layers.Flatten())\n",
    "#model_CNN.add(keras.layers.Dense(25088,activation='relu'))\n",
    "#model_CNN.add(keras.layers.Dense(1000,activation='relu'))\n",
    "model_CNN.add(keras.layers.Dense(250,activation='relu'))\n",
    "model_CNN.add(keras.layers.Dense(6, activation='softmax'))\n"
   ]
  },
  {
   "cell_type": "code",
   "execution_count": 7,
   "metadata": {},
   "outputs": [
    {
     "name": "stdout",
     "output_type": "stream",
     "text": [
      "Model: \"sequential\"\n",
      "_________________________________________________________________\n",
      "Layer (type)                 Output Shape              Param #   \n",
      "=================================================================\n",
      "conv2d (Conv2D)              (None, 2, 1000, 1)        5         \n",
      "_________________________________________________________________\n",
      "max_pooling2d (MaxPooling2D) (None, 1, 500, 1)         0         \n",
      "_________________________________________________________________\n",
      "conv2d_1 (Conv2D)            (None, 1, 500, 64)        320       \n",
      "_________________________________________________________________\n",
      "conv2d_2 (Conv2D)            (None, 1, 500, 128)       32896     \n",
      "_________________________________________________________________\n",
      "conv2d_3 (Conv2D)            (None, 1, 500, 128)       65664     \n",
      "_________________________________________________________________\n",
      "conv2d_4 (Conv2D)            (None, 1, 500, 128)       65664     \n",
      "_________________________________________________________________\n",
      "conv2d_5 (Conv2D)            (None, 1, 500, 256)       131328    \n",
      "_________________________________________________________________\n",
      "flatten (Flatten)            (None, 128000)            0         \n",
      "_________________________________________________________________\n",
      "dense (Dense)                (None, 250)               32000250  \n",
      "_________________________________________________________________\n",
      "dense_1 (Dense)              (None, 6)                 1506      \n",
      "=================================================================\n",
      "Total params: 32,297,633\n",
      "Trainable params: 32,297,633\n",
      "Non-trainable params: 0\n",
      "_________________________________________________________________\n"
     ]
    }
   ],
   "source": [
    "model_CNN.summary()"
   ]
  },
  {
   "cell_type": "markdown",
   "metadata": {},
   "source": [
    "## Realizo el fit"
   ]
  },
  {
   "cell_type": "code",
   "execution_count": 15,
   "metadata": {},
   "outputs": [],
   "source": [
    "newx=[]\n",
    "for i in range(dataset_train2.shape[0]):\n",
    "    newx.append(np.vstack((dataset_train2[i][0],dataset_train2[i][1][:1000])))\n",
    "newx=np.array(newx)"
   ]
  },
  {
   "cell_type": "code",
   "execution_count": 16,
   "metadata": {},
   "outputs": [],
   "source": [
    "newx= newx.reshape([-1, 2, 1000, 1])"
   ]
  },
  {
   "cell_type": "code",
   "execution_count": 21,
   "metadata": {},
   "outputs": [],
   "source": [
    "from sklearn.model_selection import train_test_split\n",
    "x_train, x_test,y_train,y_test= train_test_split(newx,y, test_size=0.2, shuffle=True)"
   ]
  },
  {
   "cell_type": "code",
   "execution_count": 22,
   "metadata": {},
   "outputs": [
    {
     "name": "stdout",
     "output_type": "stream",
     "text": [
      "Train on 47 samples, validate on 12 samples\n",
      "Epoch 1/30\n",
      "47/47 [==============================] - ETA: 1s - loss: 8.2243 - acc: 0.166 - 4s 81ms/sample - loss: 17.3143 - acc: 0.1277 - val_loss: 12.2903 - val_acc: 0.0833\n",
      "Epoch 2/30\n",
      "47/47 [==============================] - ETA: 1s - loss: 7.6280 - acc: 0.233 - 4s 79ms/sample - loss: 16.6506 - acc: 0.2128 - val_loss: 17.8340 - val_acc: 0.0833\n",
      "Epoch 3/30\n",
      "47/47 [==============================] - ETA: 1s - loss: 11.3882 - acc: 0.23 - 4s 78ms/sample - loss: 20.9022 - acc: 0.1489 - val_loss: 15.1405 - val_acc: 0.2500\n",
      "Epoch 4/30\n",
      "47/47 [==============================] - ETA: 1s - loss: 11.8461 - acc: 0.20 - 3s 74ms/sample - loss: 8.1455 - acc: 0.2553 - val_loss: 2.5709 - val_acc: 0.0000e+00\n",
      "Epoch 5/30\n",
      "47/47 [==============================] - ETA: 1s - loss: 1.6870 - acc: 0.333 - 4s 76ms/sample - loss: 2.9602 - acc: 0.2340 - val_loss: 2.0097 - val_acc: 0.0833\n",
      "Epoch 6/30\n",
      "47/47 [==============================] - ETA: 1s - loss: 1.4826 - acc: 0.333 - 3s 73ms/sample - loss: 4.0861 - acc: 0.2340 - val_loss: 2.0289 - val_acc: 0.2500\n",
      "Epoch 7/30\n",
      "47/47 [==============================] - ETA: 1s - loss: 1.3946 - acc: 0.566 - 3s 73ms/sample - loss: 1.8357 - acc: 0.5106 - val_loss: 2.3292 - val_acc: 0.1667\n",
      "Epoch 8/30\n",
      "47/47 [==============================] - ETA: 1s - loss: 1.6454 - acc: 0.466 - 3s 74ms/sample - loss: 2.0620 - acc: 0.3830 - val_loss: 2.6574 - val_acc: 0.1667\n",
      "Epoch 9/30\n",
      "47/47 [==============================] - ETA: 1s - loss: 1.7917 - acc: 0.333 - 4s 75ms/sample - loss: 1.7480 - acc: 0.3617 - val_loss: 1.7135 - val_acc: 0.3333\n",
      "Epoch 10/30\n",
      "47/47 [==============================] - ETA: 1s - loss: 1.3933 - acc: 0.500 - 3s 73ms/sample - loss: 1.1965 - acc: 0.6170 - val_loss: 1.5733 - val_acc: 0.5833\n",
      "Epoch 11/30\n",
      "47/47 [==============================] - ETA: 1s - loss: 1.1685 - acc: 0.600 - 3s 73ms/sample - loss: 1.0262 - acc: 0.6809 - val_loss: 1.5988 - val_acc: 0.5000\n",
      "Epoch 12/30\n",
      "47/47 [==============================] - ETA: 1s - loss: 0.7312 - acc: 0.800 - 4s 76ms/sample - loss: 1.2035 - acc: 0.6170 - val_loss: 1.7801 - val_acc: 0.4167\n",
      "Epoch 13/30\n",
      "47/47 [==============================] - ETA: 1s - loss: 0.7415 - acc: 0.766 - 4s 76ms/sample - loss: 0.8275 - acc: 0.6809 - val_loss: 2.0483 - val_acc: 0.3333\n",
      "Epoch 14/30\n",
      "47/47 [==============================] - ETA: 1s - loss: 0.5596 - acc: 0.800 - 4s 77ms/sample - loss: 0.5886 - acc: 0.7872 - val_loss: 1.9814 - val_acc: 0.5000\n",
      "Epoch 15/30\n",
      "47/47 [==============================] - ETA: 1s - loss: 0.5304 - acc: 0.800 - 4s 79ms/sample - loss: 0.6535 - acc: 0.7234 - val_loss: 2.3157 - val_acc: 0.4167\n",
      "Epoch 16/30\n",
      "47/47 [==============================] - ETA: 1s - loss: 0.3798 - acc: 0.866 - 4s 85ms/sample - loss: 0.8154 - acc: 0.7872 - val_loss: 8.3329 - val_acc: 0.1667\n",
      "Epoch 17/30\n",
      "47/47 [==============================] - ETA: 1s - loss: 4.0263 - acc: 0.500 - 4s 78ms/sample - loss: 3.3142 - acc: 0.5106 - val_loss: 3.2150 - val_acc: 0.2500\n",
      "Epoch 18/30\n",
      "47/47 [==============================] - ETA: 1s - loss: 0.8291 - acc: 0.766 - 4s 79ms/sample - loss: 0.6871 - acc: 0.7872 - val_loss: 2.4324 - val_acc: 0.4167\n",
      "Epoch 19/30\n",
      "47/47 [==============================] - ETA: 1s - loss: 0.2831 - acc: 0.933 - 4s 75ms/sample - loss: 0.7504 - acc: 0.7234 - val_loss: 7.7567 - val_acc: 0.1667\n",
      "Epoch 20/30\n",
      "47/47 [==============================] - ETA: 1s - loss: 2.5472 - acc: 0.633 - 3s 74ms/sample - loss: 1.8542 - acc: 0.6809 - val_loss: 3.0143 - val_acc: 0.3333\n",
      "Epoch 21/30\n",
      "47/47 [==============================] - ETA: 1s - loss: 0.5627 - acc: 0.833 - 4s 82ms/sample - loss: 1.6242 - acc: 0.7234 - val_loss: 4.0834 - val_acc: 0.5000\n",
      "Epoch 22/30\n",
      "47/47 [==============================] - ETA: 1s - loss: 0.7330 - acc: 0.733 - 4s 78ms/sample - loss: 3.1331 - acc: 0.6170 - val_loss: 4.3410 - val_acc: 0.2500\n",
      "Epoch 23/30\n",
      "47/47 [==============================] - ETA: 1s - loss: 1.1660 - acc: 0.733 - 4s 80ms/sample - loss: 1.5106 - acc: 0.7447 - val_loss: 5.2708 - val_acc: 0.5000\n",
      "Epoch 24/30\n",
      "47/47 [==============================] - ETA: 1s - loss: 0.2468 - acc: 0.933 - 4s 79ms/sample - loss: 0.7988 - acc: 0.8511 - val_loss: 5.4058 - val_acc: 0.5000\n",
      "Epoch 25/30\n",
      "47/47 [==============================] - ETA: 1s - loss: 0.2917 - acc: 0.933 - 4s 81ms/sample - loss: 0.3443 - acc: 0.9149 - val_loss: 7.0145 - val_acc: 0.4167\n",
      "Epoch 26/30\n",
      "47/47 [==============================] - ETA: 1s - loss: 0.4777 - acc: 0.900 - 4s 83ms/sample - loss: 0.3972 - acc: 0.8936 - val_loss: 5.3153 - val_acc: 0.5000\n",
      "Epoch 27/30\n",
      "47/47 [==============================] - ETA: 1s - loss: 0.0965 - acc: 1.000 - 4s 80ms/sample - loss: 0.2067 - acc: 0.9574 - val_loss: 20.8555 - val_acc: 0.3333\n",
      "Epoch 28/30\n",
      "47/47 [==============================] - ETA: 1s - loss: 19.6278 - acc: 0.40 - 4s 77ms/sample - loss: 12.8657 - acc: 0.5532 - val_loss: 7.5950 - val_acc: 0.3333\n",
      "Epoch 29/30\n",
      "47/47 [==============================] - ETA: 1s - loss: 0.3416 - acc: 0.900 - 4s 80ms/sample - loss: 0.9174 - acc: 0.8511 - val_loss: 8.6662 - val_acc: 0.3333\n",
      "Epoch 30/30\n",
      "47/47 [==============================] - ETA: 1s - loss: 0.3541 - acc: 0.900 - 4s 81ms/sample - loss: 0.2291 - acc: 0.9362 - val_loss: 9.8062 - val_acc: 0.5833\n"
     ]
    }
   ],
   "source": [
    "model_CNN.compile(optimizer=tf.train.AdamOptimizer(), \n",
    "              loss='sparse_categorical_crossentropy',\n",
    "              metrics=['accuracy'])\n",
    "history = model_CNN.fit(x_train, y_train, batch_size=30, epochs=30, verbose=1,validation_data=(x_test,y_test))"
   ]
  },
  {
   "cell_type": "code",
   "execution_count": 23,
   "metadata": {},
   "outputs": [
    {
     "data": {
      "text/plain": [
       "<matplotlib.legend.Legend at 0x1f9cb1a34e0>"
      ]
     },
     "execution_count": 23,
     "metadata": {},
     "output_type": "execute_result"
    },
    {
     "data": {
      "image/png": "[encoded data removed]",
      "text/plain": [
       "<Figure size 432x288 with 1 Axes>"
      ]
     },
     "metadata": {
      "needs_background": "light"
     },
     "output_type": "display_data"
    }
   ],
   "source": [
    "plt.plot(history.history['acc'], label='Train Accuracy')\n",
    "plt.plot(history.history['val_acc'], label='Validation Accuracy')\n",
    "plt.xlabel('Epochs')\n",
    "plt.ylabel('Accuracy')\n",
    "plt.legend()"
   ]
  },
  {
   "cell_type": "code",
   "execution_count": null,
   "metadata": {},
   "outputs": [],
   "source": []
  }
 ],
 "metadata": {
  "kernelspec": {
   "display_name": "Python 3",
   "language": "python",
   "name": "python3"
  },
  "language_info": {
   "codemirror_mode": {
    "name": "ipython",
    "version": 3
   },
   "file_extension": ".py",
   "mimetype": "text/x-python",
   "name": "python",
   "nbconvert_exporter": "python",
   "pygments_lexer": "ipython3",
   "version": "3.7.3"
  }
 },
 "nbformat": 4,
 "nbformat_minor": 2
}
